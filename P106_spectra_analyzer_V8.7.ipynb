{
 "cells": [
  {
   "cell_type": "markdown",
   "id": "a03204f9",
   "metadata": {},
   "source": [
    "# P106 Spectra Analyzer\n",
    "\n",
    "This program is designed to read in products of VLT/FLAMES observations from the GIRAFFE pipeline and analyze spectra to measure radial velocity (RV) of low-mass stars within the central clusters of the Carina Nebula.\n",
    " \n",
    "Author: Nicholas Proietti"
   ]
  },
  {
   "cell_type": "markdown",
   "id": "37a38973",
   "metadata": {},
   "source": [
    "Import libraries that we will need"
   ]
  },
  {
   "cell_type": "code",
   "execution_count": 1,
   "id": "fc427ac3-3d40-4967-aa62-9b7b65045136",
   "metadata": {},
   "outputs": [
    {
     "data": {
      "text/plain": [
       "<astropy.visualization.units.quantity_support.<locals>.MplQuantityConverter at 0x7f4e79bfb400>"
      ]
     },
     "execution_count": 1,
     "metadata": {},
     "output_type": "execute_result"
    }
   ],
   "source": [
    "### V1: Reads and saves spectrum plots from GIRAFFE pipeline products \n",
    "### V2: Uses iteration to spit out spectra for one folder of GIRAFFE pipeline products\n",
    "### V3: Same as V2 but for ALL folders of GIRAFFE pipeline products\n",
    "### V5: Read multiple exposures of a star, resample them all, then coadd spectra\n",
    "### V6: Continuing from V5, we normalize the flux by fitting the continuum.\n",
    "### V7: Instead of coadding before normalizing, we esample, normalize, then coadd spectra. Also can now load Table 1 from Hur et al. 2012\n",
    "### V8: Find out which stars actually have at least one exposure. This version also includes 5 spectra on one plot,\n",
    "### and two plots of spectra up close\n",
    "### V8_random: Same as V8 but looks at 5 randomly chosen stars instead of brightest stars\n",
    "### V8.3: Same as V8_random, but looks at 3 stars deliberately chosen for resolved peaks instead of 5.\n",
    "### V8.4: Same as V8.3 with attempted cross-correlations\n",
    "### V8.5: Now features RV calculation for a single star by fitting positions of MgI and Fe lines\n",
    "### V8.6: Added function to mask out emission lines\n",
    "### V8.7: Improved masking by finding outlier based on z-score\n",
    "\n",
    "\n",
    "from astropy.io import fits\n",
    "from astropy import units as u\n",
    "from astropy.table import Table\n",
    "import pandas as pd\n",
    "import numpy as np\n",
    "import os\n",
    "import glob\n",
    "from io import StringIO\n",
    "from matplotlib import pyplot as plt\n",
    "from astropy.visualization import quantity_support\n",
    "quantity_support()  # for getting units on the axes below"
   ]
  },
  {
   "cell_type": "markdown",
   "id": "a4c06c2b",
   "metadata": {},
   "source": [
    "## Data Acquisition\n",
    "\n",
    "Load Hur et al. 2012 table to collect V band magnitudes for each ID"
   ]
  },
  {
   "cell_type": "code",
   "execution_count": 2,
   "id": "b3e98f87",
   "metadata": {},
   "outputs": [
    {
     "name": "stdout",
     "output_type": "stream",
     "text": [
      "        ID Ah Am  RAs  Ed Em  DEs    Vmag  U-B    B-V    V-I     e_  e_.1  \\\n",
      "0        1 10 42 57.6 -59 47 22.6  18.681  NaN  1.105  1.461  0.002   NaN   \n",
      "1        2 10 42 57.7 -59 44 22.2  18.303  NaN    NaN  2.764  0.012   NaN   \n",
      "2        3 10 42 57.7 -59 46 58.0  18.610  NaN    NaN  1.573  0.038   NaN   \n",
      "3        4 10 42 57.8 -59 47 49.5  12.870  NaN  0.764  0.799  0.009   NaN   \n",
      "4        5 10 42 57.8 -59 44 03.4  18.815  NaN  1.072  1.433  0.017   NaN   \n",
      "...                           ...     ...  ...    ...    ...    ...   ...   \n",
      "4538  4539 10 45 54.5 -59 36 22.1  17.707  NaN    NaN  1.255  0.017   NaN   \n",
      "4539  4540 10 45 54.5 -59 31 21.9  18.151  NaN  1.049  1.767  0.031   NaN   \n",
      "4540  4541 10 45 54.6 -59 32 57.5  17.558  NaN  1.102  1.122  0.024   NaN   \n",
      "4541  4542 10 45 54.7 -59 31 41.7  18.787  NaN    NaN  2.000  0.042   NaN   \n",
      "4542  4543 10 45 54.7 -59 32 40.8  16.477  NaN  0.985  1.339  0.010   NaN   \n",
      "\n",
      "       e_.2   e_ _  _  _.1  _.2               mb n_ 2MASS  \n",
      "0     0.103  0.053  2    0    1  2       10425765-5947229  \n",
      "1       NaN  0.013  2    0    0                         2  \n",
      "2       NaN  0.039  2    0    0  2       10425776-5946583  \n",
      "3     0.009  0.009  3    0    1  3       10425773-5947495  \n",
      "4     0.110  0.043  2    0    1                         2  \n",
      "...     ...    ... ..  ...  ...                       ...  \n",
      "4538    NaN  0.029  1    0    0  1       10455440-5936217  \n",
      "4539  0.070  0.040  1    0    1  1       10455447-5931212  \n",
      "4540  0.135  0.040  1    0    1  1       10455462-5932571  \n",
      "4541    NaN  0.049  1    0    0  1       10455465-5931412  \n",
      "4542  0.144  0.016  1    0    1  1       10455468-5932401  \n",
      "\n",
      "[4543 rows x 13 columns]\n"
     ]
    }
   ],
   "source": [
    "df = pd.read_fwf('table1.dat', infer_nrows=1001)\n",
    "IDs = df.iloc[:, 0]\n",
    "V_mags = df.iloc[:, 7]\n",
    "print(df)"
   ]
  },
  {
   "cell_type": "markdown",
   "id": "19d523c9",
   "metadata": {},
   "source": [
    "Read all 45 GIRAFFE end product directories"
   ]
  },
  {
   "cell_type": "code",
   "execution_count": 3,
   "id": "7ed78f2b",
   "metadata": {},
   "outputs": [
    {
     "name": "stdout",
     "output_type": "stream",
     "text": [
      "Total list of Reflex end products: 45\n"
     ]
    }
   ],
   "source": [
    "list_dataset_dirs = glob.glob(\"2022-07-25T11_15_17/2022-07-25T11:15:17/*\")\n",
    "list_dataset_dirs.remove('2022-07-25T11_15_17/2022-07-25T11:15:17/README')\n",
    "list_dataset_dirs = {x.replace('2022-07-25T11_15_17/2022-07-25T11:15:17/', '') for x in list_dataset_dirs}\n",
    "print(\"Total list of Reflex end products: \" + str(len(list_dataset_dirs)))"
   ]
  },
  {
   "cell_type": "markdown",
   "id": "7c7c77ab",
   "metadata": {},
   "source": [
    "Read all 45 GIRAFFE spectra files"
   ]
  },
  {
   "cell_type": "code",
   "execution_count": 4,
   "id": "00c76104-e11f-408f-ad13-db06fe867078",
   "metadata": {},
   "outputs": [
    {
     "name": "stdout",
     "output_type": "stream",
     "text": [
      "Total list of spectra files: 45\n"
     ]
    }
   ],
   "source": [
    "from specutils import Spectrum1D\n",
    "\n",
    "F_prefix = [\"F1\", \"F2\", \"F3\", \"F4\", \"F5\", \"F6\", \"F7\", \"F8\"]\n",
    "list_spectra_dirs = []\n",
    "\n",
    "for dataset in list_dataset_dirs:\n",
    "    \n",
    "    #print(\"Now working with data from \" + dataset)\n",
    "    \n",
    "    for F in F_prefix:\n",
    "        \n",
    "        spectra_path = \"2022-07-25T11_15_17/2022-07-25T11:15:17/\"+dataset+\"/\"+F+\"-Carina-FLAMES_SCIENCE_RBNSPECTRA.fits\"\n",
    "        # Check whether the specified path exists or not\n",
    "        isExist = os.path.exists(spectra_path)\n",
    "        if not isExist:\n",
    "            continue\n",
    "        if isExist: \n",
    "            #print(spectra_path)\n",
    "            list_spectra_dirs.append(spectra_path)  \n",
    "            break\n",
    "    \n",
    "print(\"Total list of spectra files: \"+ str(len(list_spectra_dirs)))"
   ]
  },
  {
   "cell_type": "markdown",
   "id": "6530da86",
   "metadata": {},
   "source": [
    "Read all `OBJECT` names in `RBNSPECTRA` files"
   ]
  },
  {
   "cell_type": "code",
   "execution_count": 5,
   "id": "4dad06cb",
   "metadata": {},
   "outputs": [],
   "source": [
    "total_objects = []\n",
    "\n",
    "for spectra_path in list_spectra_dirs:\n",
    "\n",
    "    f = fits.open(spectra_path)\n",
    "    cat = Table.read(spectra_path) # alternative table\n",
    "    specdata = f[0].data\n",
    "    np.shape(specdata)\n",
    "    \n",
    "    for object_i in range(len(f[1].data['OBJECT'])):\n",
    "        \n",
    "        total_objects.append(f[1].data['OBJECT'][object_i])\n"
   ]
  },
  {
   "cell_type": "markdown",
   "id": "121d5434",
   "metadata": {},
   "source": [
    "Determine the total spectra and total number of sourses"
   ]
  },
  {
   "cell_type": "code",
   "execution_count": null,
   "id": "88be1f1b",
   "metadata": {},
   "outputs": [],
   "source": [
    "total_spectra = [row for row in total_objects if row != \"CALSIM\" and not row.startswith(\"Sky\")]\n",
    "print(\"Total spectra of stars: \" + str(len(total_spectra)))\n",
    "\n",
    "# Remove duplicates to determine total stars\n",
    "total_sources = list(set(total_spectra)) \n",
    "print(\"Total sources: \" + str(len(total_sources)))\n",
    "\n",
    "# Order Hur et al. 2012 star names by increasing number\n",
    "total_sources = list(map(int, total_sources))\n",
    "total_sources.sort()\n",
    "total_sources = list(map(str, total_sources))"
   ]
  },
  {
   "cell_type": "markdown",
   "id": "a5228080",
   "metadata": {},
   "source": [
    "## Data Wrangling\n",
    "\n",
    "For each star: gather multiple exposures of the star, resample, normalize flux, then coadd spectra"
   ]
  },
  {
   "cell_type": "code",
   "execution_count": 18,
   "id": "768e6222",
   "metadata": {
    "scrolled": true
   },
   "outputs": [
    {
     "name": "stdout",
     "output_type": "stream",
     "text": [
      "2022-07-25T11_15_17/2022-07-25T11:15:17/GIRAF.2021-02-15T01:45:02.019/F5-Carina-FLAMES_SCIENCE_RBNSPECTRA.fits\n",
      "2022-07-25T11_15_17/2022-07-25T11:15:17/GIRAF.2021-02-15T02:05:55.374/F5-Carina-FLAMES_SCIENCE_RBNSPECTRA.fits\n",
      "2022-07-25T11_15_17/2022-07-25T11:15:17/GIRAF.2021-02-15T03:32:45.041/F5-Carina-FLAMES_SCIENCE_RBNSPECTRA.fits\n",
      "2022-07-25T11_15_17/2022-07-25T11:15:17/GIRAF.2021-02-15T03:11:52.045/F5-Carina-FLAMES_SCIENCE_RBNSPECTRA.fits\n",
      "2022-07-25T11_15_17/2022-07-25T11:15:17/GIRAF.2021-02-15T02:26:48.390/F5-Carina-FLAMES_SCIENCE_RBNSPECTRA.fits\n",
      "2022-07-25T11_15_17/2022-07-25T11:15:17/GIRAF.2021-02-15T02:47:41.816/F5-Carina-FLAMES_SCIENCE_RBNSPECTRA.fits\n",
      "Exposures of 2620: 6\n"
     ]
    }
   ],
   "source": [
    "import warnings\n",
    "import numpy as np\n",
    "import matplotlib.pyplot as plt\n",
    "from astropy.modeling import models\n",
    "from astropy import units as u\n",
    "from specutils.spectra import Spectrum1D, SpectralRegion\n",
    "from specutils.fitting import fit_generic_continuum\n",
    "\n",
    "from specutils.manipulation import FluxConservingResampler\n",
    "import numpy as np\n",
    "\n",
    "star_IDs = ['2620']#sampled_list \n",
    "exposures = [] # number of exposures corresponding to each star\n",
    "\n",
    "s = {} # dictionary which will hold spectra for each star ID\n",
    "\n",
    "for star_ID in star_IDs:\n",
    "\n",
    "    d = {} # dictionary which will hold multiple exposures before coadding\n",
    "\n",
    "    for spectra_path in list_spectra_dirs:\n",
    "        f = fits.open(spectra_path)\n",
    "        cat = Table.read(spectra_path) # alternative table\n",
    "        specdata = f[0].data\n",
    "        np.shape(specdata)\n",
    "\n",
    "        for i in range(len(f[1].data['OBJECT'])):\n",
    "            if f[1].data['OBJECT'][i] == star_ID:\n",
    "\n",
    "                # Load spectral data from exposure \n",
    "                ''''''\n",
    "                print(spectra_path)\n",
    "\n",
    "                lamb = (\n",
    "                    (np.arange(1, f[0].header['NAXIS2']+1, 1)-f[0].header['CRPIX2'])\n",
    "                    *\n",
    "                    f[0].header['CDELT2'] + f[0].header['CRVAL2']\n",
    "                ) * 10 * u.AA\n",
    "                column=i\n",
    "\n",
    "                flux = specdata[:,column] * u.adu\n",
    "                spec = Spectrum1D(spectral_axis=lamb, flux=flux)\n",
    "\n",
    "                # Resampling, to put spectra on a common wavelength grid\n",
    "\n",
    "                new_disp_grid = np.arange(5100, 5400, 0.05) * u.AA\n",
    "\n",
    "                fluxcon = FluxConservingResampler()\n",
    "                new_spec_fluxcon = fluxcon(spec, new_disp_grid) \n",
    "\n",
    "                # Normalize flux\n",
    "\n",
    "                with warnings.catch_warnings():  # Ignore warnings\n",
    "                    warnings.simplefilter('ignore')\n",
    "                    g1_fit = fit_generic_continuum(new_spec_fluxcon)\n",
    "\n",
    "                y_continuum_fitted = g1_fit(new_spec_fluxcon.spectral_axis)\n",
    "\n",
    "                spec_normalized = new_spec_fluxcon / y_continuum_fitted\n",
    "\n",
    "                d[\"spec\" + str(len(d)+1)] = spec_normalized \n",
    "\n",
    "    print(\"Exposures of \" + star_ID + \": \" + str(len(d)))\n",
    "    \n",
    "    exposures.append(len(d))\n",
    "    \n",
    "    # Coadding spectra\n",
    "    coadded_spec = d['spec1']\n",
    "    for i in range(2,len(d)+1): \n",
    "        coadded_spec = coadded_spec + d['spec'+str(i)]\n",
    "       \n",
    "    s[\"star\" + str(len(s)+1)] = coadded_spec "
   ]
  },
  {
   "cell_type": "markdown",
   "id": "3beb6875",
   "metadata": {},
   "source": [
    "## Data Exploration and Visualization\n",
    "### Visualizing the spectra\n",
    "Plot the spectra"
   ]
  },
  {
   "cell_type": "code",
   "execution_count": 9,
   "id": "a9abff11",
   "metadata": {
    "scrolled": true
   },
   "outputs": [
    {
     "data": {
      "image/png": "[encoded data removed]",
      "text/plain": [
       "<Figure size 900x600 with 1 Axes>"
      ]
     },
     "metadata": {},
     "output_type": "display_data"
    }
   ],
   "source": [
    "f, ax = plt.subplots()\n",
    "\n",
    "offset = 0\n",
    "for i in range(len(star_IDs)):\n",
    "    ax.step(s[\"star\"+str(i+1)].spectral_axis, offset+s[\"star\"+str(i+1)].flux/exposures[i], \n",
    "            label=\"ID: \" + star_IDs[i] + \", V_mag: \" + str(V_mags[int(star_IDs[i])-1]))\n",
    "    offset += 0\n",
    "\n",
    "#ax.set_ylim([0.4, 1.2])\n",
    "ax.set_xlim([5160, 5200])\n",
    "\n",
    "ax.set_xlabel(\"Wavelength $\\AA$\", fontsize=15)\n",
    "ax.set_ylabel(\"Normalized Flux\", fontsize=15)\n",
    "\n",
    "ax.axvspan(5165, 5185, color='y', alpha=0.2, lw=0)\n",
    "\n",
    "plt.legend(loc=\"upper right\", prop={'size': 14})\n",
    "\n",
    "ax.tick_params(axis='both', which='major', labelsize=15)\n",
    "ax.tick_params(axis='both', which='minor', labelsize=12)\n",
    "\n",
    "f.set_size_inches(9, 6)\n",
    "\n",
    "spec_axis = s[\"star\"+str(i+1)].spectral_axis\n",
    "spec_flux = s[\"star\"+str(i+1)].flux/exposures[i]\n",
    "\n",
    "plt.savefig(\"2620_spectrum\")"
   ]
  },
  {
   "cell_type": "markdown",
   "id": "aa381d7b",
   "metadata": {},
   "source": [
    "### RV measurement through Gaussian model\n",
    "\n",
    "To estimate the RV of a star, let's assume the absorption lines can be well-approximated by a Gaussian and create a model defined by five Gaussians to represent the MgI triplet and\n",
    "an Fe line. The reddest MgI line has a wide feature with a narrow core, so it is fitted with \n",
    "two Gaussians.\n",
    "\n",
    "Rest frame wavelengths of lines were used from [Wikipedia](https://en.wikipedia.org/wiki/Fraunhofer_lines)."
   ]
  },
  {
   "cell_type": "code",
   "execution_count": 14,
   "id": "eee91c1b",
   "metadata": {},
   "outputs": [],
   "source": [
    "from matplotlib import rc\n",
    "import numpy as np\n",
    "from astropy.nddata import NDData, StdDevUncertainty\n",
    "from scipy import stats\n",
    "import seaborn as sns\n",
    "\n",
    "spec_axis = s[\"star1\"].spectral_axis\n",
    "spec_flux = s[\"star1\"].flux/exposures[int(1)-1]\n",
    "\n",
    "sample_spectrum = Spectrum1D(spectral_axis=spec_axis, flux=spec_flux, \n",
    "                            uncertainty=StdDevUncertainty(spec_flux))\n",
    "\n",
    "# Make a Gaussian\n",
    "def gaussian(x, A, mu, sigma):\n",
    "    return -A * np.exp(-(x - mu)**2 / (2 * sigma**2))\n",
    "\n",
    "# Add 5 Gaussians together to represent 4 lines\n",
    "def model(x, rv, a1, s1, a2, s2, a3, s3, a4, s4, a5, s5):\n",
    "    r_shift = 1 +rv/3e5\n",
    "    mu1, mu2, mu3, mu4 = r_shift * np.array([5167.33, 5168.91, 5172.70, 5183.62])\n",
    "    modflux = (1 + gaussian(x, a1, mu1, s1) + gaussian(x, a2, mu2, s2)\n",
    "                 + gaussian(x, a3, mu3, s3) + gaussian(x, a4, mu4, s4)\n",
    "                 + gaussian(x, a5, mu4, s5))\n",
    "    return modflux"
   ]
  },
  {
   "cell_type": "code",
   "execution_count": 23,
   "id": "9e006de6",
   "metadata": {},
   "outputs": [
    {
     "data": {
      "text/plain": [
       "<AxesSubplot: >"
      ]
     },
     "execution_count": 23,
     "metadata": {},
     "output_type": "execute_result"
    },
    {
     "data": {
      "image/png": "[encoded data removed]",
      "text/plain": [
       "<Figure size 640x480 with 1 Axes>"
      ]
     },
     "metadata": {},
     "output_type": "display_data"
    }
   ],
   "source": [
    "# Mask values above the continuum\n",
    "import numpy\n",
    "from sklearn.neighbors import LocalOutlierFactor\n",
    "clf = LocalOutlierFactor()\n",
    "preds = clf.fit_predict(sample_spectrum.flux.value.reshape(-1, 1))\n",
    "\n",
    "sns.lineplot(x=sample_spectrum.spectral_axis.value, y=preds)"
   ]
  },
  {
   "cell_type": "code",
   "execution_count": 29,
   "id": "9e8aeb33",
   "metadata": {},
   "outputs": [
    {
     "ename": "KeyError",
     "evalue": "'lof'",
     "output_type": "error",
     "traceback": [
      "\u001b[0;31m---------------------------------------------------------------------------\u001b[0m",
      "\u001b[0;31mKeyError\u001b[0m                                  Traceback (most recent call last)",
      "File \u001b[0;32m~/.local/lib/python3.10/site-packages/pandas/core/indexes/base.py:3800\u001b[0m, in \u001b[0;36mIndex.get_loc\u001b[0;34m(self, key, method, tolerance)\u001b[0m\n\u001b[1;32m   3799\u001b[0m \u001b[38;5;28;01mtry\u001b[39;00m:\n\u001b[0;32m-> 3800\u001b[0m     \u001b[38;5;28;01mreturn\u001b[39;00m \u001b[38;5;28;43mself\u001b[39;49m\u001b[38;5;241;43m.\u001b[39;49m\u001b[43m_engine\u001b[49m\u001b[38;5;241;43m.\u001b[39;49m\u001b[43mget_loc\u001b[49m\u001b[43m(\u001b[49m\u001b[43mcasted_key\u001b[49m\u001b[43m)\u001b[49m\n\u001b[1;32m   3801\u001b[0m \u001b[38;5;28;01mexcept\u001b[39;00m \u001b[38;5;167;01mKeyError\u001b[39;00m \u001b[38;5;28;01mas\u001b[39;00m err:\n",
      "File \u001b[0;32m~/.local/lib/python3.10/site-packages/pandas/_libs/index.pyx:138\u001b[0m, in \u001b[0;36mpandas._libs.index.IndexEngine.get_loc\u001b[0;34m()\u001b[0m\n",
      "File \u001b[0;32m~/.local/lib/python3.10/site-packages/pandas/_libs/index.pyx:165\u001b[0m, in \u001b[0;36mpandas._libs.index.IndexEngine.get_loc\u001b[0;34m()\u001b[0m\n",
      "File \u001b[0;32mpandas/_libs/hashtable_class_helper.pxi:5745\u001b[0m, in \u001b[0;36mpandas._libs.hashtable.PyObjectHashTable.get_item\u001b[0;34m()\u001b[0m\n",
      "File \u001b[0;32mpandas/_libs/hashtable_class_helper.pxi:5753\u001b[0m, in \u001b[0;36mpandas._libs.hashtable.PyObjectHashTable.get_item\u001b[0;34m()\u001b[0m\n",
      "\u001b[0;31mKeyError\u001b[0m: 'lof'",
      "\nThe above exception was the direct cause of the following exception:\n",
      "\u001b[0;31mKeyError\u001b[0m                                  Traceback (most recent call last)",
      "Cell \u001b[0;32mIn [29], line 4\u001b[0m\n\u001b[1;32m      2\u001b[0m df_lof[\u001b[38;5;124m\"\u001b[39m\u001b[38;5;124mlof\u001b[39m\u001b[38;5;124m\"\u001b[39m] \u001b[38;5;241m=\u001b[39m preds\n\u001b[1;32m      3\u001b[0m \u001b[38;5;66;03m# replace outliers with NaN\u001b[39;00m\n\u001b[0;32m----> 4\u001b[0m df_lof[\u001b[38;5;124m\"\u001b[39m\u001b[38;5;124mnormalized flux\u001b[39m\u001b[38;5;124m\"\u001b[39m] \u001b[38;5;241m=\u001b[39m \u001b[43mdf\u001b[49m\u001b[38;5;241;43m.\u001b[39;49m\u001b[43mapply\u001b[49m\u001b[43m(\u001b[49m\u001b[38;5;28;43;01mlambda\u001b[39;49;00m\u001b[43m \u001b[49m\u001b[43mrow\u001b[49m\u001b[43m:\u001b[49m\u001b[43m \u001b[49m\u001b[43mnp\u001b[49m\u001b[38;5;241;43m.\u001b[39;49m\u001b[43mnan\u001b[49m\u001b[43m \u001b[49m\u001b[38;5;28;43;01mif\u001b[39;49;00m\u001b[43m \u001b[49m\u001b[43mrow\u001b[49m\u001b[43m[\u001b[49m\u001b[38;5;124;43m\"\u001b[39;49m\u001b[38;5;124;43mlof\u001b[39;49m\u001b[38;5;124;43m\"\u001b[39;49m\u001b[43m]\u001b[49m\u001b[43m \u001b[49m\u001b[38;5;241;43m==\u001b[39;49m\u001b[43m \u001b[49m\u001b[38;5;241;43m-\u001b[39;49m\u001b[38;5;241;43m1\u001b[39;49m\u001b[43m \u001b[49m\u001b[38;5;28;43;01melse\u001b[39;49;00m\u001b[43m \u001b[49m\u001b[43mrow\u001b[49m\u001b[43m[\u001b[49m\u001b[38;5;124;43m\"\u001b[39;49m\u001b[38;5;124;43mnormalized flux\u001b[39;49m\u001b[38;5;124;43m\"\u001b[39;49m\u001b[43m]\u001b[49m\u001b[43m,\u001b[49m\u001b[43m \u001b[49m\u001b[43maxis\u001b[49m\u001b[38;5;241;43m=\u001b[39;49m\u001b[38;5;241;43m1\u001b[39;49m\u001b[43m)\u001b[49m\n\u001b[1;32m      5\u001b[0m \u001b[38;5;66;03m# interpolate the NaN values\u001b[39;00m\n\u001b[1;32m      6\u001b[0m df_lof[\u001b[38;5;124m\"\u001b[39m\u001b[38;5;124mnormalized flux\u001b[39m\u001b[38;5;124m\"\u001b[39m] \u001b[38;5;241m=\u001b[39m df[\u001b[38;5;124m\"\u001b[39m\u001b[38;5;124mnormalized flux\u001b[39m\u001b[38;5;124m\"\u001b[39m]\u001b[38;5;241m.\u001b[39minterpolate(method\u001b[38;5;241m=\u001b[39m\u001b[38;5;124m\"\u001b[39m\u001b[38;5;124mcubic\u001b[39m\u001b[38;5;124m\"\u001b[39m)\n",
      "File \u001b[0;32m~/.local/lib/python3.10/site-packages/pandas/core/frame.py:9558\u001b[0m, in \u001b[0;36mDataFrame.apply\u001b[0;34m(self, func, axis, raw, result_type, args, **kwargs)\u001b[0m\n\u001b[1;32m   9547\u001b[0m \u001b[38;5;28;01mfrom\u001b[39;00m \u001b[38;5;21;01mpandas\u001b[39;00m\u001b[38;5;21;01m.\u001b[39;00m\u001b[38;5;21;01mcore\u001b[39;00m\u001b[38;5;21;01m.\u001b[39;00m\u001b[38;5;21;01mapply\u001b[39;00m \u001b[38;5;28;01mimport\u001b[39;00m frame_apply\n\u001b[1;32m   9549\u001b[0m op \u001b[38;5;241m=\u001b[39m frame_apply(\n\u001b[1;32m   9550\u001b[0m     \u001b[38;5;28mself\u001b[39m,\n\u001b[1;32m   9551\u001b[0m     func\u001b[38;5;241m=\u001b[39mfunc,\n\u001b[0;32m   (...)\u001b[0m\n\u001b[1;32m   9556\u001b[0m     kwargs\u001b[38;5;241m=\u001b[39mkwargs,\n\u001b[1;32m   9557\u001b[0m )\n\u001b[0;32m-> 9558\u001b[0m \u001b[38;5;28;01mreturn\u001b[39;00m \u001b[43mop\u001b[49m\u001b[38;5;241;43m.\u001b[39;49m\u001b[43mapply\u001b[49m\u001b[43m(\u001b[49m\u001b[43m)\u001b[49m\u001b[38;5;241m.\u001b[39m__finalize__(\u001b[38;5;28mself\u001b[39m, method\u001b[38;5;241m=\u001b[39m\u001b[38;5;124m\"\u001b[39m\u001b[38;5;124mapply\u001b[39m\u001b[38;5;124m\"\u001b[39m)\n",
      "File \u001b[0;32m~/.local/lib/python3.10/site-packages/pandas/core/apply.py:741\u001b[0m, in \u001b[0;36mFrameApply.apply\u001b[0;34m(self)\u001b[0m\n\u001b[1;32m    738\u001b[0m \u001b[38;5;28;01melif\u001b[39;00m \u001b[38;5;28mself\u001b[39m\u001b[38;5;241m.\u001b[39mraw:\n\u001b[1;32m    739\u001b[0m     \u001b[38;5;28;01mreturn\u001b[39;00m \u001b[38;5;28mself\u001b[39m\u001b[38;5;241m.\u001b[39mapply_raw()\n\u001b[0;32m--> 741\u001b[0m \u001b[38;5;28;01mreturn\u001b[39;00m \u001b[38;5;28;43mself\u001b[39;49m\u001b[38;5;241;43m.\u001b[39;49m\u001b[43mapply_standard\u001b[49m\u001b[43m(\u001b[49m\u001b[43m)\u001b[49m\n",
      "File \u001b[0;32m~/.local/lib/python3.10/site-packages/pandas/core/apply.py:868\u001b[0m, in \u001b[0;36mFrameApply.apply_standard\u001b[0;34m(self)\u001b[0m\n\u001b[1;32m    867\u001b[0m \u001b[38;5;28;01mdef\u001b[39;00m \u001b[38;5;21mapply_standard\u001b[39m(\u001b[38;5;28mself\u001b[39m):\n\u001b[0;32m--> 868\u001b[0m     results, res_index \u001b[38;5;241m=\u001b[39m \u001b[38;5;28;43mself\u001b[39;49m\u001b[38;5;241;43m.\u001b[39;49m\u001b[43mapply_series_generator\u001b[49m\u001b[43m(\u001b[49m\u001b[43m)\u001b[49m\n\u001b[1;32m    870\u001b[0m     \u001b[38;5;66;03m# wrap results\u001b[39;00m\n\u001b[1;32m    871\u001b[0m     \u001b[38;5;28;01mreturn\u001b[39;00m \u001b[38;5;28mself\u001b[39m\u001b[38;5;241m.\u001b[39mwrap_results(results, res_index)\n",
      "File \u001b[0;32m~/.local/lib/python3.10/site-packages/pandas/core/apply.py:884\u001b[0m, in \u001b[0;36mFrameApply.apply_series_generator\u001b[0;34m(self)\u001b[0m\n\u001b[1;32m    881\u001b[0m \u001b[38;5;28;01mwith\u001b[39;00m option_context(\u001b[38;5;124m\"\u001b[39m\u001b[38;5;124mmode.chained_assignment\u001b[39m\u001b[38;5;124m\"\u001b[39m, \u001b[38;5;28;01mNone\u001b[39;00m):\n\u001b[1;32m    882\u001b[0m     \u001b[38;5;28;01mfor\u001b[39;00m i, v \u001b[38;5;129;01min\u001b[39;00m \u001b[38;5;28menumerate\u001b[39m(series_gen):\n\u001b[1;32m    883\u001b[0m         \u001b[38;5;66;03m# ignore SettingWithCopy here in case the user mutates\u001b[39;00m\n\u001b[0;32m--> 884\u001b[0m         results[i] \u001b[38;5;241m=\u001b[39m \u001b[38;5;28;43mself\u001b[39;49m\u001b[38;5;241;43m.\u001b[39;49m\u001b[43mf\u001b[49m\u001b[43m(\u001b[49m\u001b[43mv\u001b[49m\u001b[43m)\u001b[49m\n\u001b[1;32m    885\u001b[0m         \u001b[38;5;28;01mif\u001b[39;00m \u001b[38;5;28misinstance\u001b[39m(results[i], ABCSeries):\n\u001b[1;32m    886\u001b[0m             \u001b[38;5;66;03m# If we have a view on v, we need to make a copy because\u001b[39;00m\n\u001b[1;32m    887\u001b[0m             \u001b[38;5;66;03m#  series_generator will swap out the underlying data\u001b[39;00m\n\u001b[1;32m    888\u001b[0m             results[i] \u001b[38;5;241m=\u001b[39m results[i]\u001b[38;5;241m.\u001b[39mcopy(deep\u001b[38;5;241m=\u001b[39m\u001b[38;5;28;01mFalse\u001b[39;00m)\n",
      "Cell \u001b[0;32mIn [29], line 4\u001b[0m, in \u001b[0;36m<lambda>\u001b[0;34m(row)\u001b[0m\n\u001b[1;32m      2\u001b[0m df_lof[\u001b[38;5;124m\"\u001b[39m\u001b[38;5;124mlof\u001b[39m\u001b[38;5;124m\"\u001b[39m] \u001b[38;5;241m=\u001b[39m preds\n\u001b[1;32m      3\u001b[0m \u001b[38;5;66;03m# replace outliers with NaN\u001b[39;00m\n\u001b[0;32m----> 4\u001b[0m df_lof[\u001b[38;5;124m\"\u001b[39m\u001b[38;5;124mnormalized flux\u001b[39m\u001b[38;5;124m\"\u001b[39m] \u001b[38;5;241m=\u001b[39m df\u001b[38;5;241m.\u001b[39mapply(\u001b[38;5;28;01mlambda\u001b[39;00m row: np\u001b[38;5;241m.\u001b[39mnan \u001b[38;5;28;01mif\u001b[39;00m \u001b[43mrow\u001b[49m\u001b[43m[\u001b[49m\u001b[38;5;124;43m\"\u001b[39;49m\u001b[38;5;124;43mlof\u001b[39;49m\u001b[38;5;124;43m\"\u001b[39;49m\u001b[43m]\u001b[49m \u001b[38;5;241m==\u001b[39m \u001b[38;5;241m-\u001b[39m\u001b[38;5;241m1\u001b[39m \u001b[38;5;28;01melse\u001b[39;00m row[\u001b[38;5;124m\"\u001b[39m\u001b[38;5;124mnormalized flux\u001b[39m\u001b[38;5;124m\"\u001b[39m], axis\u001b[38;5;241m=\u001b[39m\u001b[38;5;241m1\u001b[39m)\n\u001b[1;32m      5\u001b[0m \u001b[38;5;66;03m# interpolate the NaN values\u001b[39;00m\n\u001b[1;32m      6\u001b[0m df_lof[\u001b[38;5;124m\"\u001b[39m\u001b[38;5;124mnormalized flux\u001b[39m\u001b[38;5;124m\"\u001b[39m] \u001b[38;5;241m=\u001b[39m df[\u001b[38;5;124m\"\u001b[39m\u001b[38;5;124mnormalized flux\u001b[39m\u001b[38;5;124m\"\u001b[39m]\u001b[38;5;241m.\u001b[39minterpolate(method\u001b[38;5;241m=\u001b[39m\u001b[38;5;124m\"\u001b[39m\u001b[38;5;124mcubic\u001b[39m\u001b[38;5;124m\"\u001b[39m)\n",
      "File \u001b[0;32m~/.local/lib/python3.10/site-packages/pandas/core/series.py:982\u001b[0m, in \u001b[0;36mSeries.__getitem__\u001b[0;34m(self, key)\u001b[0m\n\u001b[1;32m    979\u001b[0m     \u001b[38;5;28;01mreturn\u001b[39;00m \u001b[38;5;28mself\u001b[39m\u001b[38;5;241m.\u001b[39m_values[key]\n\u001b[1;32m    981\u001b[0m \u001b[38;5;28;01melif\u001b[39;00m key_is_scalar:\n\u001b[0;32m--> 982\u001b[0m     \u001b[38;5;28;01mreturn\u001b[39;00m \u001b[38;5;28;43mself\u001b[39;49m\u001b[38;5;241;43m.\u001b[39;49m\u001b[43m_get_value\u001b[49m\u001b[43m(\u001b[49m\u001b[43mkey\u001b[49m\u001b[43m)\u001b[49m\n\u001b[1;32m    984\u001b[0m \u001b[38;5;28;01mif\u001b[39;00m is_hashable(key):\n\u001b[1;32m    985\u001b[0m     \u001b[38;5;66;03m# Otherwise index.get_value will raise InvalidIndexError\u001b[39;00m\n\u001b[1;32m    986\u001b[0m     \u001b[38;5;28;01mtry\u001b[39;00m:\n\u001b[1;32m    987\u001b[0m         \u001b[38;5;66;03m# For labels that don't resolve as scalars like tuples and frozensets\u001b[39;00m\n",
      "File \u001b[0;32m~/.local/lib/python3.10/site-packages/pandas/core/series.py:1092\u001b[0m, in \u001b[0;36mSeries._get_value\u001b[0;34m(self, label, takeable)\u001b[0m\n\u001b[1;32m   1089\u001b[0m     \u001b[38;5;28;01mreturn\u001b[39;00m \u001b[38;5;28mself\u001b[39m\u001b[38;5;241m.\u001b[39m_values[label]\n\u001b[1;32m   1091\u001b[0m \u001b[38;5;66;03m# Similar to Index.get_value, but we do not fall back to positional\u001b[39;00m\n\u001b[0;32m-> 1092\u001b[0m loc \u001b[38;5;241m=\u001b[39m \u001b[38;5;28;43mself\u001b[39;49m\u001b[38;5;241;43m.\u001b[39;49m\u001b[43mindex\u001b[49m\u001b[38;5;241;43m.\u001b[39;49m\u001b[43mget_loc\u001b[49m\u001b[43m(\u001b[49m\u001b[43mlabel\u001b[49m\u001b[43m)\u001b[49m\n\u001b[1;32m   1093\u001b[0m \u001b[38;5;28;01mreturn\u001b[39;00m \u001b[38;5;28mself\u001b[39m\u001b[38;5;241m.\u001b[39mindex\u001b[38;5;241m.\u001b[39m_get_values_for_loc(\u001b[38;5;28mself\u001b[39m, loc, label)\n",
      "File \u001b[0;32m~/.local/lib/python3.10/site-packages/pandas/core/indexes/base.py:3802\u001b[0m, in \u001b[0;36mIndex.get_loc\u001b[0;34m(self, key, method, tolerance)\u001b[0m\n\u001b[1;32m   3800\u001b[0m     \u001b[38;5;28;01mreturn\u001b[39;00m \u001b[38;5;28mself\u001b[39m\u001b[38;5;241m.\u001b[39m_engine\u001b[38;5;241m.\u001b[39mget_loc(casted_key)\n\u001b[1;32m   3801\u001b[0m \u001b[38;5;28;01mexcept\u001b[39;00m \u001b[38;5;167;01mKeyError\u001b[39;00m \u001b[38;5;28;01mas\u001b[39;00m err:\n\u001b[0;32m-> 3802\u001b[0m     \u001b[38;5;28;01mraise\u001b[39;00m \u001b[38;5;167;01mKeyError\u001b[39;00m(key) \u001b[38;5;28;01mfrom\u001b[39;00m \u001b[38;5;21;01merr\u001b[39;00m\n\u001b[1;32m   3803\u001b[0m \u001b[38;5;28;01mexcept\u001b[39;00m \u001b[38;5;167;01mTypeError\u001b[39;00m:\n\u001b[1;32m   3804\u001b[0m     \u001b[38;5;66;03m# If we have a listlike key, _check_indexing_error will raise\u001b[39;00m\n\u001b[1;32m   3805\u001b[0m     \u001b[38;5;66;03m#  InvalidIndexError. Otherwise we fall through and re-raise\u001b[39;00m\n\u001b[1;32m   3806\u001b[0m     \u001b[38;5;66;03m#  the TypeError.\u001b[39;00m\n\u001b[1;32m   3807\u001b[0m     \u001b[38;5;28mself\u001b[39m\u001b[38;5;241m.\u001b[39m_check_indexing_error(key)\n",
      "\u001b[0;31mKeyError\u001b[0m: 'lof'"
     ]
    }
   ],
   "source": [
    "df_lof = pd.DataFrame()\n",
    "df_lof[\"lof\"] = preds\n",
    "# replace outliers with NaN\n",
    "df_lof[\"normalized flux\"] = df.apply(lambda row: np.nan if row[\"lof\"] == -1 else row[\"normalized flux\"], axis=1)\n",
    "# interpolate the NaN values\n",
    "df_lof[\"normalized flux\"] = df[\"normalized flux\"].interpolate(method=\"cubic\")"
   ]
  },
  {
   "cell_type": "markdown",
   "id": "63db02a4",
   "metadata": {},
   "source": [
    "Use non-linear least squares to fit model to observed spectrum\n",
    "\n",
    "Give the model to [curve_fit](https://docs.scipy.org/doc/scipy/reference/generated/scipy.optimize.curve_fit.html) with the sample spectrum asking with an initial guess at the parameters (p0), then it returns the best for values \n",
    "- `popt`: the first of which is the RV\n",
    "- `pcov`: the estimated covariance matrix from `popt`, the diagonals are the variances of the fitted parameters, so the square roots are the estimated standard deviations"
   ]
  },
  {
   "cell_type": "code",
   "execution_count": null,
   "id": "ee30f983",
   "metadata": {},
   "outputs": [],
   "source": [
    "from scipy.optimize import curve_fit\n",
    "p0=[0, 0.5, 0.5, 0.5, 0.5, 0.5, 0.5, 0.5, 0.5, 0.5, 0.5] # Initial guess of fluxes\n",
    "popt, pcov = curve_fit(model, sample_spectrum.spectral_axis.value[mask], sample_spectrum.flux.value[mask], p0=p0)\n",
    "print(f\"RV = {popt[0]} \\u00B1 {np.sqrt(pcov[0,0])} km s\")"
   ]
  },
  {
   "cell_type": "markdown",
   "id": "8205dc23",
   "metadata": {},
   "source": [
    "Show the result of the Gaussian model on the spectrum"
   ]
  },
  {
   "cell_type": "code",
   "execution_count": null,
   "id": "d56486e9",
   "metadata": {},
   "outputs": [],
   "source": [
    "# Plot\n",
    "fig, ax = plt.subplots()\n",
    "ax.plot(sample_spectrum.spectral_axis[mask], sample_spectrum.flux[mask], \n",
    "        label=\"ID: 2620\" + r\"$, V_{mag}$\" + \": 16.611 mags\")\n",
    "ax.plot(sample_spectrum.spectral_axis.value[mask], model(sample_spectrum.spectral_axis.value[mask], *popt),\n",
    "        label=f\"RV = {round(popt[0],3)}\" + r\" $\\pm$ \" + f\"{round(np.sqrt(pcov[0,0]),3)} \"+ r\"$km\\,s^{-1}$\")\n",
    "ax.set_xlim(5160, 5200)\n",
    "ax.set_ylim(0.37, 1.15)\n",
    "f.set_size_inches(13, 9)\n",
    "ax.axvspan(5165, 5185, color='y', alpha=0.2, lw=0)\n",
    "plt.legend(loc=\"lower right\", prop={'size': 14})\n",
    "ax.tick_params(axis='both', which='major', labelsize=15)\n",
    "ax.tick_params(axis='both', which='minor', labelsize=15)\n",
    "ax.set_xlabel(\"$\\lambda$ ($\\AA$)\", fontsize=15)\n",
    "ax.set_ylabel(\"Normalized Flux\", fontsize=15)\n",
    "\n",
    "plt.rcParams.update({\n",
    "    \"text.usetex\": True,\n",
    "    \"font.family\": \"Computer Modern Roman\"\n",
    "})"
   ]
  },
  {
   "cell_type": "code",
   "execution_count": null,
   "id": "d7d1aede",
   "metadata": {},
   "outputs": [],
   "source": []
  }
 ],
 "metadata": {
  "kernelspec": {
   "display_name": "Python 3 (ipykernel)",
   "language": "python",
   "name": "python3"
  },
  "language_info": {
   "codemirror_mode": {
    "name": "ipython",
    "version": 3
   },
   "file_extension": ".py",
   "mimetype": "text/x-python",
   "name": "python",
   "nbconvert_exporter": "python",
   "pygments_lexer": "ipython3",
   "version": "3.10.7"
  }
 },
 "nbformat": 4,
 "nbformat_minor": 5
}
